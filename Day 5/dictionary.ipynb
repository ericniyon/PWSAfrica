{
 "cells": [
  {
   "cell_type": "code",
   "execution_count": 23,
   "metadata": {},
   "outputs": [
    {
     "ename": "KeyError",
     "evalue": "('JAVA', 'ALG')",
     "output_type": "error",
     "traceback": [
      "\u001b[1;31m---------------------------------------------------------------------------\u001b[0m",
      "\u001b[1;31mKeyError\u001b[0m                                  Traceback (most recent call last)",
      "\u001b[1;32m<ipython-input-23-60a3ecb6ca58>\u001b[0m in \u001b[0;36m<module>\u001b[1;34m\u001b[0m\n\u001b[0;32m      9\u001b[0m     \u001b[1;34m'WEB'\u001b[0m\u001b[1;33m:\u001b[0m\u001b[1;36m92\u001b[0m\u001b[1;33m\u001b[0m\u001b[1;33m\u001b[0m\u001b[0m\n\u001b[0;32m     10\u001b[0m }\n\u001b[1;32m---> 11\u001b[1;33m \u001b[0mprint\u001b[0m\u001b[1;33m(\u001b[0m\u001b[0mdicresurt\u001b[0m\u001b[1;33m[\u001b[0m\u001b[1;34m'JAVA'\u001b[0m\u001b[1;33m,\u001b[0m\u001b[1;34m'ALG'\u001b[0m\u001b[1;33m]\u001b[0m\u001b[1;33m)\u001b[0m\u001b[1;33m\u001b[0m\u001b[1;33m\u001b[0m\u001b[0m\n\u001b[0m\u001b[0;32m     12\u001b[0m \u001b[0mtotal\u001b[0m\u001b[1;33m=\u001b[0m\u001b[1;36m0\u001b[0m\u001b[1;33m\u001b[0m\u001b[1;33m\u001b[0m\u001b[0m\n\u001b[0;32m     13\u001b[0m \u001b[1;32mfor\u001b[0m \u001b[0msub\u001b[0m \u001b[1;32min\u001b[0m \u001b[0mdicresurt\u001b[0m\u001b[1;33m:\u001b[0m\u001b[1;33m\u001b[0m\u001b[1;33m\u001b[0m\u001b[0m\n",
      "\u001b[1;31mKeyError\u001b[0m: ('JAVA', 'ALG')"
     ]
    }
   ],
   "source": [
    "#1\n",
    "\n",
    "subj=['ALG','JAVA','HCI','DB','IR','WEB']\n",
    "mark=[52,78,24,39,66,92]\n",
    "dicresurt={\n",
    "    'ALG':52,\n",
    "    'JAVA':79,\n",
    "    'HCI':24,\n",
    "    'DB':39,\n",
    "    'IR':66,\n",
    "    'WEB':92\n",
    "}\n",
    "print(dicresurt['JAVA'])\n",
    "total=0\n",
    "for sub in dicresurt:\n",
    "    total=total+dicresurt[sub]\n",
    "    avg=total/len(dicresurt)\n",
    "print(total)\n",
    "print(avg)\n",
    "    \n"
   ]
  },
  {
   "cell_type": "code",
   "execution_count": 37,
   "metadata": {},
   "outputs": [
    {
     "name": "stdout",
     "output_type": "stream",
     "text": [
      "Carbon\n",
      "Hydrogen\n",
      "Boron\n",
      "Nitrogen\n",
      "Fluorine\n",
      "Neon\n",
      "Carbon\n",
      "sodium\n",
      "Magnesium\n"
     ]
    }
   ],
   "source": [
    "#2\n",
    "\n",
    "chemicalElements = {'H':'Hydrogen','He':'Helium','Li':'Lithium','Be':'Beryllium','B':'Boron','C':'Carbon',\n",
    "                    'N':'Nitrogen','O':'Oxygen','F':'Fluorine','Ne':'Neon'}\n",
    "print(chemicalElements['C'])\n",
    "print(chemicalElements['H'])\n",
    "print(chemicalElements['B'])\n",
    "print(chemicalElements['N'])\n",
    "print(chemicalElements['F'])\n",
    "print(chemicalElements['Ne'])\n",
    "print(x)\n",
    "x=chemicalElements['Na']='sodium'\n",
    "t=chemicalElements['Mg']='Magnesium'\n",
    "print(x)\n",
    "print(t)\n",
    "\n"
   ]
  },
  {
   "cell_type": "code",
   "execution_count": 44,
   "metadata": {},
   "outputs": [
    {
     "name": "stdout",
     "output_type": "stream",
     "text": [
      "28\n",
      "25\n",
      "37\n",
      "added are  38 29 31\n"
     ]
    }
   ],
   "source": [
    "#3\n",
    "temperatureCountries = {'Rwanda': 29, 'Nigeria':28 , 'Kenya':\n",
    "23, 'Egypt':37 ,'Morocco': 41 ,'South Africa': 25, 'Mali': 33, 'Ghana':28,}\n",
    "print(temperatureCountries['Nigeria'])\n",
    "print(temperatureCountries['South Africa'])\n",
    "print(temperatureCountries['Egypt'])\n",
    "x=temperatureCountries['Morocco']=38\n",
    "y=temperatureCountries['Kenya']=29\n",
    "z=temperatureCountries['South Africa']=31\n",
    "print('added are ',x,y,z)"
   ]
  },
  {
   "cell_type": "code",
   "execution_count": 52,
   "metadata": {},
   "outputs": [
    {
     "name": "stdout",
     "output_type": "stream",
     "text": [
      "Rwanda Climate balanced\n",
      "Nigeria Climate balanced\n",
      "Kenya is too cold\n",
      "Egypt is too hot\n",
      "Morocco is too hot\n",
      "South Africa is too cold\n",
      "Mali is too hot\n",
      "Ghana Climate balanced\n"
     ]
    }
   ],
   "source": [
    "#4\n",
    "temperatureCountries = {'Rwanda': 29, 'Nigeria':28 , 'Kenya':\n",
    "23, 'Egypt':37 ,'Morocco': 41 ,'South Africa': 25, 'Mali': 33, 'Ghana':28,}\n",
    "\n",
    "for country in temperatureCountries:\n",
    "    if temperatureCountries[country]>30:\n",
    "        print(country,'is too hot')\n",
    "    elif temperatureCountries[country] >25 and temperatureCountries[country]<30:\n",
    "        print(country,'Climate balanced')\n",
    "    else:\n",
    "        print(country, 'is too cold')"
   ]
  },
  {
   "cell_type": "code",
   "execution_count": 25,
   "metadata": {},
   "outputs": [
    {
     "name": "stdout",
     "output_type": "stream",
     "text": [
      "2\n"
     ]
    }
   ],
   "source": [
    "year = {'RWANDA': {'JAN':1,'FEB':2,'MARCH':3,'APR':1},\n",
    "          'CONGO': {'JAN':5,'FEB':1,'MARCH':2,'APR':3}}\n",
    "\n",
    "\n",
    "print(year['RWANDA']['FEB'])\n",
    "\n",
    "            \n",
    "\n",
    "        \n",
    "        "
   ]
  },
  {
   "cell_type": "code",
   "execution_count": 33,
   "metadata": {},
   "outputs": [
    {
     "name": "stdout",
     "output_type": "stream",
     "text": [
      "308\n"
     ]
    }
   ],
   "source": [
    "courseStudents = {'Java Programming':120, 'Django': 60, 'Algorithms and Data structures': 58, 'SoftwareEngineering': 70}\n",
    "total=0\n",
    "for course in courseStudents:\n",
    "    total=total+courseStudents[course]\n",
    "\n",
    "print(total)\n",
    "    \n",
    "    \n",
    "\n"
   ]
  },
  {
   "cell_type": "code",
   "execution_count": 54,
   "metadata": {},
   "outputs": [
    {
     "name": "stdout",
     "output_type": "stream",
     "text": [
      "average of Sofiat:  79.0\n",
      "average of Tom:  52.333333333333336\n"
     ]
    }
   ],
   "source": [
    "students = {'Sofiat': [56,89,70,92,67,100], 'Fionnuala'\n",
    ":[60,70,100,45,70,76],'Alex':[60,95,90,85,93,45],\n",
    "'Ify': [55,80,56,45,51,76],'John Paul':[78,100,65,77,91,87],\n",
    "'Ben': [45,78,65,50,45,87],'Tom':[32,50,45,67,40,80]}\n",
    "sumq=0\n",
    "total=0\n",
    "t1=0\n",
    "tom=0\n",
    "allS=[]\n",
    "for std in students:\n",
    "    for st in students[std]:\n",
    "        if std=='Sofiat':\n",
    "            total=total+st\n",
    "            sof=total/len(students[std])\n",
    "        elif std=='Tom':\n",
    "            t1=t1+st\n",
    "            tom=t1/len(students[std])\n",
    "        else:\n",
    "            sumq=sumq+st\n",
    "            ang=sumq/len(students)\n",
    "    allS.append(ang)\n",
    "            \n",
    "print('average of Sofiat: ',sof)\n",
    "print('average of Tom: ',tom)\n",
    "#print(allS)"
   ]
  },
  {
   "cell_type": "code",
   "execution_count": 1,
   "metadata": {},
   "outputs": [
    {
     "name": "stdout",
     "output_type": "stream",
     "text": [
      "[]\n"
     ]
    }
   ],
   "source": [
    "mf='dayfivee.txt'\n",
    "with open('dayfivee.txt', 'r') as f:\n",
    "    text= f.readlines()\n",
    "    print(text)"
   ]
  },
  {
   "cell_type": "code",
   "execution_count": null,
   "metadata": {},
   "outputs": [],
   "source": []
  },
  {
   "cell_type": "code",
   "execution_count": null,
   "metadata": {},
   "outputs": [],
   "source": []
  }
 ],
 "metadata": {
  "kernelspec": {
   "display_name": "Python 3",
   "language": "python",
   "name": "python3"
  },
  "language_info": {
   "codemirror_mode": {
    "name": "ipython",
    "version": 3
   },
   "file_extension": ".py",
   "mimetype": "text/x-python",
   "name": "python",
   "nbconvert_exporter": "python",
   "pygments_lexer": "ipython3",
   "version": "3.7.3"
  }
 },
 "nbformat": 4,
 "nbformat_minor": 2
}
