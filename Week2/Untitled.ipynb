{
 "cells": [
  {
   "cell_type": "code",
   "execution_count": 6,
   "metadata": {},
   "outputs": [
    {
     "data": {
      "text/plain": [
       "16"
      ]
     },
     "execution_count": 6,
     "metadata": {},
     "output_type": "execute_result"
    }
   ],
   "source": [
    "class Anyt:\n",
    "    def doubles(self,num):\n",
    "        self.res=num*num\n",
    "        \n",
    "        return self.res\n",
    "    \n",
    "b=Anyt()\n",
    "b.doubles(4)\n",
    "    \n"
   ]
  },
  {
   "cell_type": "code",
   "execution_count": 12,
   "metadata": {},
   "outputs": [
    {
     "name": "stdout",
     "output_type": "stream",
     "text": [
      "madiba\n",
      "all the best\n"
     ]
    }
   ],
   "source": [
    "class Std:\n",
    "    def __init__(self,name):\n",
    "        self.name=name\n",
    "    def make_noise(self):\n",
    "        print(self.name)\n",
    "on=Std('madiba')\n",
    "on.make_noise()\n",
    "kim=Std('all the best')\n",
    "kim.make_noise()"
   ]
  },
  {
   "cell_type": "code",
   "execution_count": 33,
   "metadata": {},
   "outputs": [
    {
     "name": "stdout",
     "output_type": "stream",
     "text": [
      "the average of a list : 1160.4285714285713\n",
      "the minmum num in   a list : 1\n",
      "the maxmum  num in  a list : 7897\n",
      "the maxmum  num in  a list : [1, 2, 3, 54, 76, 7897, 90, 4]\n",
      "the maxmum  num in  a list : 3\n"
     ]
    }
   ],
   "source": [
    "from random import choice\n",
    "class Take_a_list:\n",
    "    def __init__(self,lst):\n",
    "        self.lst=lst\n",
    "    def avgz(self):\n",
    "        return sum(self.lst)/len(self.lst)\n",
    "    \n",
    "    def minx(self):\n",
    "        return min(self.lst)\n",
    "    def max(self):\n",
    "        return max(self.lst)\n",
    "    def add(self):\n",
    "        s=self.lst.append(4)\n",
    "        return self.lst\n",
    "    def choice(self):\n",
    "        return choice(self.lst)\n",
    "lis=[1,2,3,54,76,7897,90]\n",
    "l=Take_a_list(lis)\n",
    "print('the average of a list :',l.avgz())\n",
    "print('the minmum num in   a list :',l.minx())\n",
    "print('the maxmum  num in  a list :',l.max())\n",
    "print('the appending  num in  a list :',l.add())\n",
    "print('the choice  num in  a list :',l.choice())\n"
   ]
  },
  {
   "cell_type": "code",
   "execution_count": 40,
   "metadata": {},
   "outputs": [
    {
     "name": "stdout",
     "output_type": "stream",
     "text": [
      "enter your namekigali\n",
      "Welcome !! kigali to day we are leanning the classes\n"
     ]
    }
   ],
   "source": [
    "class Person:\n",
    "    def __init__(self,name):\n",
    "        self.name=name\n",
    "    def greet(self):\n",
    "        return self.name\n",
    "intro=input('enter your name')\n",
    "k=Person(intro)\n",
    "print('Welcome !!',k.greet(), 'to day we are leanning the classes')"
   ]
  },
  {
   "cell_type": "code",
   "execution_count": 1,
   "metadata": {},
   "outputs": [
    {
     "name": "stdout",
     "output_type": "stream",
     "text": [
      "Selct Action To Perform\n",
      "========================\n",
      "1 Withdraw\n",
      "2 Deposit\n",
      "3 Current balance\n",
      "4 Exit\n",
      "1\n",
      "enter amount you want to withdrow\n",
      "12000\n",
      "thank you for using this ATM , your Current Balance  88000.0\n"
     ]
    }
   ],
   "source": [
    "\n",
    "class ATMachine:\n",
    "    \n",
    "    def __init__(self,amounts):\n",
    "        self.amounts=amounts\n",
    "    def Interact(self):\n",
    "        print('Selct Action To Perform')\n",
    "        print('========================')\n",
    "        print('1 Withdraw')\n",
    "        print('2 Deposit')\n",
    "        print('3 Current balance')\n",
    "        print('4 Exit')\n",
    "    def Current_balance(self):\n",
    "        print('your Current balance:', self.amounts)\n",
    "    def Exit(self):\n",
    "        return exit()\n",
    "    def Deposit(self,depose):\n",
    "        self.amounts=self.amounts+depose\n",
    "        return self.amounts\n",
    "    def Withdrow(self,cash):\n",
    "        if cash<self.amounts:\n",
    "            self.amounts=self.amounts-cash\n",
    "        else:\n",
    "            print('your Balance is Low')\n",
    "        return self.amounts\n",
    "        \n",
    "amt=ATMachine(100000.00)\n",
    "amt.Interact()\n",
    "\n",
    "option=int(input(''))\n",
    "if option==1:\n",
    "    print('enter amount you want to withdrow')\n",
    "    cash=int(input(''))\n",
    "    print('thank you for using this ATM , your Current Balance ', amt.Withdrow(cash))\n",
    "elif option==2:\n",
    "    print('enter amount you want to Deposit')\n",
    "    deposit=int(input(''))\n",
    "    print('Your New Balance:' + str(amt.Deposit(deposit)))\n",
    "elif option==3:\n",
    "    amt.Current_balance()\n",
    "elif option==4:\n",
    "    print('you done')\n",
    "    amt.Exit()\n",
    "    \n"
   ]
  },
  {
   "cell_type": "markdown",
   "metadata": {},
   "source": [
    "## "
   ]
  },
  {
   "cell_type": "code",
   "execution_count": 5,
   "metadata": {},
   "outputs": [
    {
     "data": {
      "text/plain": [
       "<bound method Snail.stepBackwards of <__main__.Snail object at 0x000001AF1881C588>>"
      ]
     },
     "execution_count": 5,
     "metadata": {},
     "output_type": "execute_result"
    }
   ],
   "source": [
    "class  Snail:\n",
    "    def __init__(self,snail_postion):\n",
    "        self.snail_postion=snail_postion    \n",
    "    def stepForwards(self,destance):\n",
    "        self.snail_postion=self.snail_postion+destance\n",
    "        return self.snail_postion\n",
    "    def stepBackwards(self,destance):\n",
    "        self.snail_postion=self.snail_postion+destance\n",
    "        return self.snail_postion\n",
    "initial=Snail(0)\n",
    "lenght=10\n",
    "initial.stepBackwards\n",
    "    \n",
    "    \n",
    "        "
   ]
  },
  {
   "cell_type": "code",
   "execution_count": null,
   "metadata": {},
   "outputs": [],
   "source": []
  }
 ],
 "metadata": {
  "kernelspec": {
   "display_name": "Python 3",
   "language": "python",
   "name": "python3"
  },
  "language_info": {
   "codemirror_mode": {
    "name": "ipython",
    "version": 3
   },
   "file_extension": ".py",
   "mimetype": "text/x-python",
   "name": "python",
   "nbconvert_exporter": "python",
   "pygments_lexer": "ipython3",
   "version": "3.7.3"
  }
 },
 "nbformat": 4,
 "nbformat_minor": 2
}
