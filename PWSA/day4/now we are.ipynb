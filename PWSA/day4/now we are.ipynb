{
 "cells": [
  {
   "cell_type": "code",
   "execution_count": 1,
   "metadata": {},
   "outputs": [
    {
     "name": "stdout",
     "output_type": "stream",
     "text": [
      "67\n"
     ]
    }
   ],
   "source": [
    "# maxcimum of list\n",
    "def maxm(m):\n",
    "    max1=list[0]\n",
    "    for i in list:\n",
    "        if i>max1:\n",
    "            max1=i\n",
    "    return max1\n",
    "list=[1,2,3,4,3,4,67,9]\n",
    "vigo=maxm(list)\n",
    "print(vigo)"
   ]
  },
  {
   "cell_type": "code",
   "execution_count": 21,
   "metadata": {},
   "outputs": [
    {
     "name": "stdout",
     "output_type": "stream",
     "text": [
      "[2, 1, 2, 0]\n"
     ]
    }
   ],
   "source": [
    "#find minmum of a list\n",
    "def minm(m):\n",
    "    max1=m[1]\n",
    "    for i in m:\n",
    "        if i<max1:\n",
    "            max1=i\n",
    "    return max1\n",
    "listw=[[6,2,39,4,3,4,67,7],[1,2,3,4,3,4,67,9],[8,2,6,4,2,4,6,9],[7,15,23,0,3,4,67,9]]\n",
    "listx=[]\n",
    "for b in range(len(listw)):\n",
    "    minu=minm(listw[b])\n",
    "    listx.append(minu) \n",
    "print(listx)\n",
    "    \n"
   ]
  },
  {
   "cell_type": "code",
   "execution_count": 11,
   "metadata": {},
   "outputs": [
    {
     "name": "stdout",
     "output_type": "stream",
     "text": [
      "11.625\n"
     ]
    }
   ],
   "source": [
    "#find averege of a list\n",
    "def avg(m):\n",
    "    suma=0\n",
    "    for i in list:\n",
    "        suma=suma+i\n",
    "        avg=suma/len(list)\n",
    "          \n",
    "    return avg\n",
    "list=[1,2,3,4,3,4,67,9]\n",
    "vigo=avg(list)\n",
    "print(vigo)"
   ]
  },
  {
   "cell_type": "code",
   "execution_count": 29,
   "metadata": {},
   "outputs": [
    {
     "name": "stdout",
     "output_type": "stream",
     "text": [
      "500\n"
     ]
    }
   ],
   "source": [
    "#water uses per mounths\n",
    "\n",
    "def water_uses(water):\n",
    "    count=0\n",
    "    H2O=0\n",
    "    for i in water:\n",
    "        if i==0:\n",
    "            count+=1\n",
    "            H2O=50*count\n",
    "    return H2O\n",
    "month=[[0,0,0,0,9,2,8],[0,0,0,1,0,2,3],[8,2,6,0,2,4,6,9],[7,15,23,0,3,4,67,9]]\n",
    "listt=[]\n",
    "for p in range(len(month)):\n",
    "    for q in range(len(month[p])):\n",
    "        if month[p][q]==0:\n",
    "            listt.append(month[p][q])\n",
    "            ass=water_uses(listt)\n",
    "print(ass)\n",
    "    "
   ]
  },
  {
   "cell_type": "code",
   "execution_count": 11,
   "metadata": {},
   "outputs": [
    {
     "name": "stdout",
     "output_type": "stream",
     "text": [
      "15.0\n"
     ]
    }
   ],
   "source": [
    "def avg(m):\n",
    "    suma=0\n",
    "    for i in m:\n",
    "        suma=suma+i\n",
    "        avg=suma/len(list)\n",
    "          \n",
    "    return avg\n",
    "list=[[10,1,4],[4,5,6]]\n",
    "lisoto=[]\n",
    "for b in range(len(list)):\n",
    "    for c in range(len(list[b])):\n",
    "        lisoto.append(list[b][c])\n",
    "        minu=avg(lisoto)   \n",
    "print(minu)"
   ]
  },
  {
   "cell_type": "code",
   "execution_count": 2,
   "metadata": {},
   "outputs": [
    {
     "name": "stdout",
     "output_type": "stream",
     "text": [
      "enter any word      qwertz\n",
      "enter any4\n",
      "u a i v x d "
     ]
    }
   ],
   "source": [
    "# Problem 2. Caesar cipher is one of the simplest ciphers; it’s a substitution\n",
    "# cipher that relies on shifting letters of the alphabet. The key of\n",
    "# the cipher is just the offset used. For example, if we take as plain text\n",
    "# I love computing science, we can encrypt it by shifting it by 4 and the\n",
    "# result will be M pszi gsqtyxmrk wgmirgi. Note that the alphabet wraps\n",
    "# around, for example z will shift to d. Your task is to implement the\n",
    "# encryption and decryption methods for Ceasar cipher.\n",
    "\n",
    "lower_letters=['a','b', 'c', 'd', 'e','f', 'g', 'h', 'i', 'j','k', 'l', 'm', 'n','o', 'p', 'q', 'r' ,'s', 't', 'u', 'v', 'w', 'x', 'y', 'z']\n",
    "word=input('enter any word      ')\n",
    "z=int(input('enter any'))\n",
    "for l in range(len(word)):\n",
    "    for s in range(len(lower_letters)):\n",
    "        if word[l] in lower_letters[s]: \n",
    "            c=(s+z)%26\n",
    "            print(lower_letters[c],end=' ')\n",
    "    "
   ]
  },
  {
   "cell_type": "code",
   "execution_count": 31,
   "metadata": {},
   "outputs": [
    {
     "name": "stdout",
     "output_type": "stream",
     "text": [
      "enter any number13\n",
      "[40, 20.0, 10.0, 5.0, 16.0, 8.0, 4.0, 2.0, 1.0]\n"
     ]
    }
   ],
   "source": [
    "n = int(input('enter any number'))\n",
    "Sequence=[]\n",
    "while n!=1:\n",
    "    if n%2 == 0:\n",
    "        n=n/2 \n",
    "        \n",
    "    elif n%2 !=0:\n",
    "        n=3*n+1\n",
    "        \n",
    "    else:\n",
    "        print('enter correct number')\n",
    "    Sequence.append(n)\n",
    "print(Sequence)\n",
    "    "
   ]
  },
  {
   "cell_type": "code",
   "execution_count": null,
   "metadata": {},
   "outputs": [],
   "source": []
  },
  {
   "cell_type": "code",
   "execution_count": null,
   "metadata": {},
   "outputs": [],
   "source": []
  }
 ],
 "metadata": {
  "kernelspec": {
   "display_name": "Python 3",
   "language": "python",
   "name": "python3"
  }
 },
 "nbformat": 4,
 "nbformat_minor": 2
}
