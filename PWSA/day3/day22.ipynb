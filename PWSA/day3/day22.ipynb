{
 "cells": [
  {
   "cell_type": "code",
   "execution_count": 3,
   "metadata": {},
   "outputs": [
    {
     "name": "stdout",
     "output_type": "stream",
     "text": [
      "12.625\n"
     ]
    }
   ],
   "source": [
    "list =[5, 6, 9, 10, 15, 17, 18, 21]\n",
    "total=0\n",
    "for i in list:\n",
    "    total = total+i\n",
    "avg = total/len(list)\n",
    "print(avg)"
   ]
  },
  {
   "cell_type": "code",
   "execution_count": 5,
   "metadata": {},
   "outputs": [
    {
     "name": "stdout",
     "output_type": "stream",
     "text": [
      "3\n",
      "3\n"
     ]
    }
   ],
   "source": [
    "fruit= \"banana\"\n",
    "counta=0\n",
    "countb=0\n",
    "for ch in fruit:\n",
    "    if ch=='a':\n",
    "        counta= counta+1\n",
    "        \n",
    "    else:\n",
    "        countb=countb+1\n",
    "    \n",
    "print(counta)\n",
    "print(countb)"
   ]
  },
  {
   "cell_type": "code",
   "execution_count": 7,
   "metadata": {},
   "outputs": [
    {
     "name": "stdout",
     "output_type": "stream",
     "text": [
      "8\n"
     ]
    }
   ],
   "source": [
    "list =[5, 6, 9, 10, 15, 17, 18, 21]\n",
    "count=0\n",
    "for num in list:\n",
    "    count=count+1\n",
    "print(count)"
   ]
  },
  {
   "cell_type": "code",
   "execution_count": 2,
   "metadata": {},
   "outputs": [
    {
     "name": "stdout",
     "output_type": "stream",
     "text": [
      "[-2, -1, 21, 18, 17, 15, 10, 1, 2, 9, 0, 6, 5]\n"
     ]
    }
   ],
   "source": [
    "list =[5, 6,0, 9,2, 1,10, 15, 17, 18, 21,-1,-2]\n",
    "minmum=0\n",
    "for num in list:\n",
    "    if num<minmum:\n",
    "        minmum=num\n",
    "\n",
    "numz = minmum\n",
    "for numm in list:\n",
    "    if numm>numz:\n",
    "        print(numm)"
   ]
  },
  {
   "cell_type": "code",
   "execution_count": 54,
   "metadata": {},
   "outputs": [],
   "source": [
    "list =[5, 6, 9,2, 1,10, 15, 17, 18, 21,0,-20,-12,0]\n",
    "minmum=list[0]\n",
    "for num in list:\n",
    "    if num>minmum:\n",
    "        minmum=num\n"
   ]
  },
  {
   "cell_type": "code",
   "execution_count": 69,
   "metadata": {},
   "outputs": [
    {
     "name": "stdout",
     "output_type": "stream",
     "text": [
      "18\n"
     ]
    }
   ],
   "source": [
    "list =[5, 6, 9,2, 1,10, 15, 17, 18, 21,0,-20,-12,0]\n",
    "my_list = sorted(list)\n",
    "sort = my_list[-2]\n",
    "print(sort)\n"
   ]
  },
  {
   "cell_type": "code",
   "execution_count": 79,
   "metadata": {},
   "outputs": [
    {
     "name": "stdout",
     "output_type": "stream",
     "text": [
      "[1, 1, 2, 3, 5, 8, 13, 21, 34, 55, 89, 144, 233, 377, 610, 987, 1597, 2584, 4181, 6765, 10946, 17711, 28657, 46368, 75025, 121393, 196418, 317811, 514229, 832040, 1346269, 2178309, 3524578, 5702887, 9227465, 14930352, 24157817, 39088169, 63245986, 102334155, 165580141, 267914296, 433494437, 701408733, 1134903170, 1836311903, 2971215073, 4807526976, 7778742049, 12586269025, 20365011074, 32951280099, 53316291173]\n"
     ]
    }
   ],
   "source": [
    "list=[1,1]\n",
    "a=list[0]\n",
    "b=list[1]\n",
    "c=a+b\n",
    "list.append(a+b)\n",
    "for i in range(50):\n",
    "    a=b\n",
    "    b=c\n",
    "    c=a+b\n",
    "    list.append(c)\n",
    "print(list)"
   ]
  },
  {
   "cell_type": "code",
   "execution_count": 102,
   "metadata": {},
   "outputs": [
    {
     "name": "stdout",
     "output_type": "stream",
     "text": [
      "5\n",
      "7\n",
      "9\n"
     ]
    }
   ],
   "source": [
    "lista =[1,2,3]\n",
    "listb = [4,5,6]\n",
    "sum=0\n",
    "for a in range(3):\n",
    "    sum=lista[0]+listb[0]\n",
    "print(sum)\n",
    "for a in range(3):\n",
    "    sum=lista[1]+listb[1]\n",
    "print(sum)\n",
    "for a in range(3):\n",
    "    sum=lista[2]+listb[2]\n",
    "    \n",
    "print(sum)\n"
   ]
  },
  {
   "cell_type": "code",
   "execution_count": 105,
   "metadata": {},
   "outputs": [
    {
     "ename": "IndexError",
     "evalue": "list index out of range",
     "output_type": "error",
     "traceback": [
      "\u001b[1;31m---------------------------------------------------------------------------\u001b[0m",
      "\u001b[1;31mIndexError\u001b[0m                                Traceback (most recent call last)",
      "\u001b[1;32m<ipython-input-105-62b31a95d210>\u001b[0m in \u001b[0;36m<module>\u001b[1;34m\u001b[0m\n\u001b[1;32m----> 1\u001b[1;33m \u001b[0mlist\u001b[0m\u001b[1;33m[\u001b[0m\u001b[1;36m209\u001b[0m\u001b[1;33m]\u001b[0m\u001b[1;33m\u001b[0m\u001b[1;33m\u001b[0m\u001b[0m\n\u001b[0m\u001b[0;32m      2\u001b[0m \u001b[1;32mfor\u001b[0m \u001b[0mi\u001b[0m \u001b[1;32min\u001b[0m \u001b[0mrange\u001b[0m\u001b[1;33m(\u001b[0m\u001b[1;36m10\u001b[0m\u001b[1;33m)\u001b[0m\u001b[1;33m:\u001b[0m\u001b[1;33m\u001b[0m\u001b[1;33m\u001b[0m\u001b[0m\n\u001b[0;32m      3\u001b[0m     \u001b[0ma\u001b[0m \u001b[1;33m=\u001b[0m \u001b[0mint\u001b[0m\u001b[1;33m(\u001b[0m\u001b[0minput\u001b[0m\u001b[1;33m(\u001b[0m\u001b[1;34m\"enter number: \"\u001b[0m\u001b[1;33m)\u001b[0m\u001b[1;33m)\u001b[0m\u001b[1;33m\u001b[0m\u001b[1;33m\u001b[0m\u001b[0m\n",
      "\u001b[1;31mIndexError\u001b[0m: list index out of range"
     ]
    }
   ],
   "source": [
    "list[209]\n",
    "for i in range(10):\n",
    "    a = int(input(\"enter number: \"))"
   ]
  },
  {
   "cell_type": "code",
   "execution_count": 3,
   "metadata": {},
   "outputs": [
    {
     "name": "stdout",
     "output_type": "stream",
     "text": [
      "\n",
      "\n",
      "-  -  -  -  -  -  enter word:k\n",
      "k enter word:i\n",
      "i enter word:g\n",
      "g enter word:a\n",
      "a enter word:l\n",
      "l enter word:i\n",
      "i "
     ]
    }
   ],
   "source": [
    "noun= 'kigali'\n",
    "for ch in noun:\n",
    "  \n",
    "    word = len(noun)\n",
    "print('\\n')\n",
    "for u in range(word):\n",
    "    print('-',end='  ')\n",
    "for ch in noun:\n",
    "    choice = input('enter word:')\n",
    "    if choice == ch:\n",
    "        print(ch,end=' ')\n",
    "    else:\n",
    "        print('-',end=' ')\n",
    "\n",
    "\n",
    "\n",
    "\n",
    "\n",
    "# for guess in range(4):\n",
    "#     n=input(\"enter charcter:\")\n",
    "#     if n in noun:\n",
    "#         print(noun.replace('----','n---'))"
   ]
  },
  {
   "cell_type": "code",
   "execution_count": 26,
   "metadata": {},
   "outputs": [
    {
     "name": "stdout",
     "output_type": "stream",
     "text": [
      "-128 -6.0\n"
     ]
    }
   ],
   "source": [
    "list  = [-3,4,-10,-128,137,11,27,98]\n",
    "total1=0\n",
    "count=0\n",
    "for i in list:\n",
    "    if i<0:\n",
    "        total=total1+i\n",
    "  \n",
    "    \n",
    "        \n",
    "    elif i>0:\n",
    "        count=count+1\n",
    "        sum2 = total+i\n",
    "avg=sum2/count\n",
    "      \n",
    "print(total,avg)\n",
    "    "
   ]
  },
  {
   "cell_type": "code",
   "execution_count": 20,
   "metadata": {},
   "outputs": [
    {
     "name": "stdout",
     "output_type": "stream",
     "text": [
      "[5, 7, 9]\n"
     ]
    }
   ],
   "source": [
    "lista =[1,2,3]\n",
    "listb = [4,5,6]\n",
    "sum=[]\n",
    "for n in range(len(lista)):\n",
    "    sum.append(lista[n]+listb[n])\n",
    "print(sum)"
   ]
  },
  {
   "cell_type": "code",
   "execution_count": 33,
   "metadata": {},
   "outputs": [
    {
     "name": "stdout",
     "output_type": "stream",
     "text": [
      "11 5 -12\n"
     ]
    }
   ],
   "source": [
    "A=[11, 2, 4]\n",
    "B=[4, 5, 6]\n",
    "C= [10, 8,-12]\n",
    "print(A[0],B[1],C[2])\n"
   ]
  },
  {
   "cell_type": "code",
   "execution_count": null,
   "metadata": {},
   "outputs": [],
   "source": []
  }
 ],
 "metadata": {
  "kernelspec": {
   "display_name": "Python 3",
   "language": "python",
   "name": "python3"
  },
  "language_info": {
   "codemirror_mode": {
    "name": "ipython",
    "version": 3
   },
   "file_extension": ".py",
   "mimetype": "text/x-python",
   "name": "python",
   "nbconvert_exporter": "python",
   "pygments_lexer": "ipython3",
   "version": "3.7.3"
  }
 },
 "nbformat": 4,
 "nbformat_minor": 2
}
