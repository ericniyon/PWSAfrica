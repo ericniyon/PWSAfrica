{
 "cells": [
  {
   "cell_type": "code",
   "execution_count": 8,
   "metadata": {},
   "outputs": [
    {
     "name": "stdout",
     "output_type": "stream",
     "text": [
      "hek  madiba"
     ]
    }
   ],
   "source": [
    "def hello(name):\n",
    "    print(\"hek \",end=' ' +name) \n",
    "std = 'madiba'\n",
    "hello(std)"
   ]
  },
  {
   "cell_type": "code",
   "execution_count": 11,
   "metadata": {},
   "outputs": [
    {
     "data": {
      "text/plain": [
       "24"
      ]
     },
     "execution_count": 11,
     "metadata": {},
     "output_type": "execute_result"
    }
   ],
   "source": [
    "def num(x):\n",
    "    return x*2\n",
    "num(12)"
   ]
  },
  {
   "cell_type": "code",
   "execution_count": 12,
   "metadata": {},
   "outputs": [
    {
     "data": {
      "text/plain": [
       "4"
      ]
     },
     "execution_count": 12,
     "metadata": {},
     "output_type": "execute_result"
    }
   ],
   "source": [
    "def nums(x,y):\n",
    "    if x>y:\n",
    "        return x\n",
    "    else:\n",
    "        return y\n",
    "nums(3,4)\n",
    "        "
   ]
  },
  {
   "cell_type": "code",
   "execution_count": 6,
   "metadata": {},
   "outputs": [
    {
     "name": "stdout",
     "output_type": "stream",
     "text": [
      "Happy birth day orange"
     ]
    }
   ],
   "source": [
    "def hb(madiba):\n",
    "    print('Happy birth day',end=' ' +madiba)\n",
    "hb('orange')\n",
    "\n"
   ]
  },
  {
   "cell_type": "code",
   "execution_count": 10,
   "metadata": {},
   "outputs": [
    {
     "name": "stdout",
     "output_type": "stream",
     "text": [
      "enter f num:4\n",
      "enter s num:3\n",
      "64\n"
     ]
    }
   ],
   "source": [
    "def power(x,y):\n",
    "    return x**y\n",
    "num1 = int(input('enter f num:'))\n",
    "num = int(input('enter s num:'))\n",
    "pwo =power(num1,num)\n",
    "print(pwo)"
   ]
  },
  {
   "cell_type": "code",
   "execution_count": 13,
   "metadata": {},
   "outputs": [
    {
     "name": "stdout",
     "output_type": "stream",
     "text": [
      "enter your mak100\n",
      "you pass\n"
     ]
    }
   ],
   "source": [
    "def marks(n):\n",
    "    if mak>50:\n",
    "        print('you pass')\n",
    "    else:\n",
    "        print('repeat the year')\n",
    "mak=int(input('enter your mak'))\n",
    "marks(mak)\n"
   ]
  },
  {
   "cell_type": "code",
   "execution_count": 1,
   "metadata": {},
   "outputs": [
    {
     "name": "stdout",
     "output_type": "stream",
     "text": [
      "enter number you want4\n",
      "enter num2\n",
      "enter num3\n",
      "enter num4\n",
      "enter num5\n",
      "[2, 3, 4, 5]\n",
      "5\n"
     ]
    }
   ],
   "source": [
    "def laxmum(n):\n",
    "    \n",
    "    maxm = 0\n",
    "    for m in liste:\n",
    "        if m>maxm:\n",
    "            maxm=m\n",
    "    return maxm\n",
    "    \n",
    "liste=[]\n",
    "numx=int(input('enter number you want'))\n",
    "for n in range(numx):\n",
    "    new_lst=int(input('enter num'))\n",
    "    liste.append(new_lst)\n",
    "print(liste)\n",
    "resut =laxmum(liste)\n",
    "print(resut)\n",
    "    "
   ]
  },
  {
   "cell_type": "code",
   "execution_count": 39,
   "metadata": {},
   "outputs": [
    {
     "name": "stdout",
     "output_type": "stream",
     "text": [
      "5\n"
     ]
    }
   ],
   "source": [
    "def counting(voe):\n",
    "    count = 0\n",
    "    for i in string:\n",
    "        if i=='a' or i=='o' or i=='i' or i=='u' or i=='e':\n",
    "            count=count+1\n",
    "    return count\n",
    "string =\"thank you so much\"\n",
    "\n",
    "vowel=counting(string)\n",
    "print(vowel)"
   ]
  },
  {
   "cell_type": "code",
   "execution_count": 3,
   "metadata": {},
   "outputs": [
    {
     "name": "stdout",
     "output_type": "stream",
     "text": [
      "enter first num4\n",
      "enter second num2\n",
      "2 is factor 4\n"
     ]
    }
   ],
   "source": [
    "def foctor(x,y):\n",
    "    if x%y==0:\n",
    "        print(num2,'is factor',num1)\n",
    "    else:\n",
    "        print(num2,'not foctor',num1)\n",
    "num1=int(input('enter first num'))\n",
    "num2=int(input('enter second num'))\n",
    "foctor(num1,num2)\n"
   ]
  },
  {
   "cell_type": "code",
   "execution_count": 39,
   "metadata": {},
   "outputs": [
    {
     "name": "stdout",
     "output_type": "stream",
     "text": [
      "enter any number67\n",
      "water is Liquis\n"
     ]
    }
   ],
   "source": [
    "def wether(sol):\n",
    "    \n",
    "    if temp<0:\n",
    "        print('the state is Solid')\n",
    "    elif temp>0 and temp<100:\n",
    "        print('water is Liquis')    \n",
    "    else:\n",
    "        print('state is Gas')\n",
    "temp= int(input('enter any number'))\n",
    "wether(temp)"
   ]
  },
  {
   "cell_type": "code",
   "execution_count": 8,
   "metadata": {},
   "outputs": [
    {
     "name": "stdout",
     "output_type": "stream",
     "text": [
      "enter number you want3\n",
      "enter num3\n",
      "enter num3\n",
      "enter num3\n",
      "[3, 3, 3]\n",
      "9\n"
     ]
    }
   ],
   "source": [
    "def summation(sum):\n",
    "    sumx =0\n",
    "    for y in listes:\n",
    "        sumx=sumx+y\n",
    "    return sumx\n",
    "listes=[]\n",
    "numx=int(input('enter number you want'))\n",
    "for n in range(numx):\n",
    "    new_lst=int(input('enter num'))\n",
    "    listes.append(new_lst)\n",
    "print(listes)\n",
    "resut =summation(listes)\n",
    "print(resut)     \n",
    "    "
   ]
  },
  {
   "cell_type": "code",
   "execution_count": 34,
   "metadata": {},
   "outputs": [
    {
     "name": "stdout",
     "output_type": "stream",
     "text": [
      "enter wordrwanda\n",
      "enter chara\n",
      "2\n"
     ]
    }
   ],
   "source": [
    "def sch(strg,ch):\n",
    "    count=0\n",
    "    for i in msg:\n",
    "        if ch==i:\n",
    "            count= count+1\n",
    "    return count\n",
    "msg=input('enter word')\n",
    "chd=input('enter char')\n",
    "src=sch(msg,chd)\n",
    "print(src)"
   ]
  },
  {
   "cell_type": "code",
   "execution_count": 41,
   "metadata": {},
   "outputs": [
    {
     "name": "stdout",
     "output_type": "stream",
     "text": [
      "inter your first list range3\n",
      "enter your number23\n",
      "enter your number23\n",
      "enter your number3\n",
      "inter your second list range3\n",
      "enter your number4\n",
      "enter your number3\n",
      "enter your number4\n",
      "[23, 23, 3]\n",
      "[4, 3, 4]\n",
      "sum [27, 26, 7]\n"
     ]
    }
   ],
   "source": [
    "def list_sum(addition):\n",
    "    suma=[]\n",
    "    for i in range(len(list1)):\n",
    "        suma.append(list1[i]+list2[i])\n",
    "    return suma\n",
    "list1=[]\n",
    "l1=int(input('inter your first list range'))\n",
    "for l11 in range(l1):\n",
    "    new_list1=int(input('enter your number'))\n",
    "    list1.append(new_list1)\n",
    "list2=[]\n",
    "l2=int(input('inter your second list range'))\n",
    "for l11 in range(l1):\n",
    "    new_list2=int(input('enter your number'))\n",
    "    list2.append(new_list2)\n",
    "print(list1)\n",
    "print(list2)\n",
    "result=list_sum(list1)\n",
    "print('sum',result)\n",
    "        "
   ]
  },
  {
   "cell_type": "code",
   "execution_count": 56,
   "metadata": {},
   "outputs": [
    {
     "name": "stdout",
     "output_type": "stream",
     "text": [
      "enter mounth2224\n",
      "fuck u\n"
     ]
    }
   ],
   "source": [
    "def seasonsns(ses):\n",
    "        if mounth <=3:\n",
    "            print('large winter')\n",
    "        elif mounth >3 and mounth<7:\n",
    "            print('small summer')\n",
    "        elif mounth >=7 and mounth<=9:\n",
    "            print('large summer')\n",
    "        elif mounth>9 and mounth<13:\n",
    "            print('it large winter')\n",
    "        else:\n",
    "            print('fuck u')\n",
    "mounth=int(input('enter mounth'))\n",
    "jijo=seasonsns(mounth)\n",
    "\n",
    "        \n",
    "    "
   ]
  },
  {
   "cell_type": "code",
   "execution_count": 68,
   "metadata": {},
   "outputs": [
    {
     "name": "stdout",
     "output_type": "stream",
     "text": [
      "{3, 4}\n"
     ]
    }
   ],
   "source": [
    "def listo(m):\n",
    "\n",
    "    print(set(list1) & set(list2))\n",
    "\n",
    "list1=[1,2,3,4]\n",
    "list2=[0,6,3,4]\n",
    "q=listo(list2)"
   ]
  },
  {
   "cell_type": "code",
   "execution_count": 79,
   "metadata": {},
   "outputs": [
    {
     "name": "stdout",
     "output_type": "stream",
     "text": [
      "[1, 7]\n"
     ]
    }
   ],
   "source": [
    "list1=[1,7,3,4]\n",
    "list2=[0,6,3,4]\n",
    "list3=[]\n",
    "for n in list1:\n",
    "    if n in list1 and n not in list2:\n",
    "        list3.append(n)\n",
    "print(list3)\n"
   ]
  },
  {
   "cell_type": "code",
   "execution_count": 80,
   "metadata": {},
   "outputs": [
    {
     "name": "stdout",
     "output_type": "stream",
     "text": [
      "[3, 4]\n"
     ]
    }
   ],
   "source": [
    "list1=[1,7,3,4]\n",
    "list2=[0,6,3,4]\n",
    "list3=[]\n",
    "for n in list1:\n",
    "    if n in list1 and n  in list2:\n",
    "        list3.append(n)\n",
    "print(list3)"
   ]
  },
  {
   "cell_type": "code",
   "execution_count": 85,
   "metadata": {},
   "outputs": [
    {
     "name": "stdout",
     "output_type": "stream",
     "text": [
      "[1, 7, 3, 4, 0, 6]\n"
     ]
    }
   ],
   "source": [
    "list1=[1,7,3,4]\n",
    "list2=[0,6,3,4]\n",
    "list3=[]\n",
    "for n in list1:\n",
    "        list3.append(n)\n",
    "for n in list2:\n",
    "    if n in list2 and n not in list1:\n",
    "        list3.append(n)\n",
    "print(list3)"
   ]
  },
  {
   "cell_type": "code",
   "execution_count": 12,
   "metadata": {},
   "outputs": [
    {
     "name": "stdout",
     "output_type": "stream",
     "text": [
      "[1, 2, 3, 4, 5, 43, 8, 9]\n"
     ]
    }
   ],
   "source": [
    "list=[1,2,3,4,5,43,3,2,8,8,9,1]\n",
    "list9=[]\n",
    "for i in list:\n",
    "    if i not in list9:\n",
    "        list9.append(i)\n",
    "print(list9)\n",
    "        \n",
    "        \n",
    "       \n",
    "        "
   ]
  },
  {
   "cell_type": "code",
   "execution_count": 8,
   "metadata": {},
   "outputs": [
    {
     "name": "stdout",
     "output_type": "stream",
     "text": [
      "Hello Madiba\n",
      "Hello Madiba\n",
      "Hello Madiba\n",
      "Hello Madiba\n",
      "Hello Madiba\n",
      "Hello Madiba\n"
     ]
    }
   ],
   "source": [
    "i=0\n",
    "\n",
    "while i<=5:\n",
    "    j=0\n",
    "    print('Hello',end=' ')\n",
    "    while j<1:\n",
    "        print('Madiba')\n",
    "        j=j+1\n",
    "    i=i+1"
   ]
  },
  {
   "cell_type": "code",
   "execution_count": null,
   "metadata": {},
   "outputs": [],
   "source": []
  },
  {
   "cell_type": "code",
   "execution_count": null,
   "metadata": {},
   "outputs": [],
   "source": []
  },
  {
   "cell_type": "code",
   "execution_count": null,
   "metadata": {},
   "outputs": [],
   "source": []
  }
 ],
 "metadata": {
  "kernelspec": {
   "display_name": "Python 3",
   "language": "python",
   "name": "python3"
  },
  "language_info": {
   "codemirror_mode": {
    "name": "ipython",
    "version": 3
   },
   "file_extension": ".py",
   "mimetype": "text/x-python",
   "name": "python",
   "nbconvert_exporter": "python",
   "pygments_lexer": "ipython3",
   "version": "3.7.3"
  }
 },
 "nbformat": 4,
 "nbformat_minor": 2
}
