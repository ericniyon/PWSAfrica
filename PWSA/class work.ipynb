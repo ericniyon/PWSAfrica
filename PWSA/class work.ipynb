{
 "cells": [
  {
   "cell_type": "code",
   "execution_count": 15,
   "metadata": {},
   "outputs": [
    {
     "name": "stdout",
     "output_type": "stream",
     "text": [
      "M\n",
      "a\n",
      "n\n",
      "e\n"
     ]
    }
   ],
   "source": [
    "mystring = 'Mane'\n",
    "for name in mystring:\n",
    "    print(name)"
   ]
  },
  {
   "cell_type": "code",
   "execution_count": 16,
   "metadata": {},
   "outputs": [
    {
     "name": "stdout",
     "output_type": "stream",
     "text": [
      "enaM\n",
      "enaM\n",
      "enaM\n",
      "enaM\n"
     ]
    }
   ],
   "source": [
    "mystring = 'Mane'\n",
    "for n in mystring:\n",
    "    print(mystring[::-1])"
   ]
  },
  {
   "cell_type": "code",
   "execution_count": 19,
   "metadata": {},
   "outputs": [
    {
     "name": "stdout",
     "output_type": "stream",
     "text": [
      "Me\n",
      "an\n"
     ]
    }
   ],
   "source": [
    "mystring = 'Mane'\n",
    "print(mystring[0] + '' + mystring[3])\n",
    "print(mystring[1]+ '' + mystring[2])"
   ]
  },
  {
   "cell_type": "code",
   "execution_count": 21,
   "metadata": {},
   "outputs": [
    {
     "name": "stdout",
     "output_type": "stream",
     "text": [
      "M\n",
      "a\n",
      "n\n",
      "e\n",
      "\n",
      "\n",
      "e\n",
      "n\n",
      "a\n",
      "M\n"
     ]
    }
   ],
   "source": [
    "mystring = 'Mane'\n",
    "for n in mystring:\n",
    "    print(n)\n",
    "print('\\n')\n",
    "string = mystring[::-1]\n",
    "for k in string:\n",
    "    print(k)"
   ]
  },
  {
   "cell_type": "code",
   "execution_count": 24,
   "metadata": {},
   "outputs": [
    {
     "name": "stdout",
     "output_type": "stream",
     "text": [
      "palindorm\n"
     ]
    }
   ],
   "source": [
    "mystring = 'dad'\n",
    "string = mystring[::-1]\n",
    "if (mystring==string):\n",
    "    print('palindorm')\n",
    "    \n",
    "else:\n",
    "    print('not palindrom')"
   ]
  },
  {
   "cell_type": "code",
   "execution_count": null,
   "metadata": {},
   "outputs": [],
   "source": []
  }
 ],
 "metadata": {
  "kernelspec": {
   "display_name": "Python 3",
   "language": "python",
   "name": "python3"
  },
  "language_info": {
   "codemirror_mode": {
    "name": "ipython",
    "version": 3
   },
   "file_extension": ".py",
   "mimetype": "text/x-python",
   "name": "python",
   "nbconvert_exporter": "python",
   "pygments_lexer": "ipython3",
   "version": "3.7.3"
  }
 },
 "nbformat": 4,
 "nbformat_minor": 2
}
